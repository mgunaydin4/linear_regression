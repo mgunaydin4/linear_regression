{
 "cells": [
  {
   "cell_type": "markdown",
   "source": [
    "# Linear Regression"
   ],
   "metadata": {
    "collapsed": false
   },
   "id": "2e4095059ce9042b"
  },
  {
   "cell_type": "code",
   "outputs": [],
   "source": [
    "# Kütüphanelerin import edilmesi\n",
    "import matplotlib.pyplot as plt\n",
    "import pandas as pd\n",
    "from sklearn.linear_model import LinearRegression\n",
    "from sklearn.metrics import mean_squared_error, mean_absolute_error\n",
    "import numpy as np\n",
    "pd.set_option('display.max_columns', None)\n",
    "pd.set_option('display.width', 500)"
   ],
   "metadata": {
    "collapsed": false,
    "ExecuteTime": {
     "end_time": "2024-10-11T16:40:45.600577Z",
     "start_time": "2024-10-11T16:40:44.825424Z"
    }
   },
   "id": "9df68540ac2cb250",
   "execution_count": 1
  },
  {
   "cell_type": "code",
   "outputs": [
    {
     "data": {
      "text/plain": "    Deneyim Yılı (x)  Maaş (y)\n0                  5       600\n1                  7       900\n2                  3       550\n3                  3       500\n4                  2       400\n5                  7       950\n6                  3       540\n7                 10      1200\n8                  6       900\n9                  4       550\n10                 8      1100\n11                 1       460\n12                 1       400\n13                 9      1000\n14                 1       380",
      "text/html": "<div>\n<style scoped>\n    .dataframe tbody tr th:only-of-type {\n        vertical-align: middle;\n    }\n\n    .dataframe tbody tr th {\n        vertical-align: top;\n    }\n\n    .dataframe thead th {\n        text-align: right;\n    }\n</style>\n<table border=\"1\" class=\"dataframe\">\n  <thead>\n    <tr style=\"text-align: right;\">\n      <th></th>\n      <th>Deneyim Yılı (x)</th>\n      <th>Maaş (y)</th>\n    </tr>\n  </thead>\n  <tbody>\n    <tr>\n      <th>0</th>\n      <td>5</td>\n      <td>600</td>\n    </tr>\n    <tr>\n      <th>1</th>\n      <td>7</td>\n      <td>900</td>\n    </tr>\n    <tr>\n      <th>2</th>\n      <td>3</td>\n      <td>550</td>\n    </tr>\n    <tr>\n      <th>3</th>\n      <td>3</td>\n      <td>500</td>\n    </tr>\n    <tr>\n      <th>4</th>\n      <td>2</td>\n      <td>400</td>\n    </tr>\n    <tr>\n      <th>5</th>\n      <td>7</td>\n      <td>950</td>\n    </tr>\n    <tr>\n      <th>6</th>\n      <td>3</td>\n      <td>540</td>\n    </tr>\n    <tr>\n      <th>7</th>\n      <td>10</td>\n      <td>1200</td>\n    </tr>\n    <tr>\n      <th>8</th>\n      <td>6</td>\n      <td>900</td>\n    </tr>\n    <tr>\n      <th>9</th>\n      <td>4</td>\n      <td>550</td>\n    </tr>\n    <tr>\n      <th>10</th>\n      <td>8</td>\n      <td>1100</td>\n    </tr>\n    <tr>\n      <th>11</th>\n      <td>1</td>\n      <td>460</td>\n    </tr>\n    <tr>\n      <th>12</th>\n      <td>1</td>\n      <td>400</td>\n    </tr>\n    <tr>\n      <th>13</th>\n      <td>9</td>\n      <td>1000</td>\n    </tr>\n    <tr>\n      <th>14</th>\n      <td>1</td>\n      <td>380</td>\n    </tr>\n  </tbody>\n</table>\n</div>"
     },
     "execution_count": 3,
     "metadata": {},
     "output_type": "execute_result"
    }
   ],
   "source": [
    "# Verileri bir sözlük şeklinde tanımlıyoruz\n",
    "data = {\n",
    "    'Deneyim Yılı (x)': [5, 7, 3, 3, 2, 7, 3, 10, 6, 4, 8, 1, 1, 9, 1],\n",
    "    'Maaş (y)': [600, 900, 550, 500, 400, 950, 540, 1200, 900, 550, 1100, 460, 400, 1000, 380]\n",
    "}\n",
    "\n",
    "# Verileri bir DataFrame'e dönüştürüyoruz\n",
    "df = pd.DataFrame(data)\n",
    "\n",
    "# DataFrame'i görüntüleme\n",
    "df"
   ],
   "metadata": {
    "collapsed": false,
    "ExecuteTime": {
     "end_time": "2024-10-11T16:41:18.751791Z",
     "start_time": "2024-10-11T16:41:18.742179Z"
    }
   },
   "id": "4b10670dd214543",
   "execution_count": 3
  },
  {
   "cell_type": "code",
   "outputs": [
    {
     "data": {
      "text/plain": "pandas.core.frame.DataFrame"
     },
     "execution_count": 4,
     "metadata": {},
     "output_type": "execute_result"
    }
   ],
   "source": [
    "# df'in tipi\n",
    "type(df)"
   ],
   "metadata": {
    "collapsed": false,
    "ExecuteTime": {
     "end_time": "2024-10-11T16:41:39.645600Z",
     "start_time": "2024-10-11T16:41:39.640928Z"
    }
   },
   "id": "3c34806a96bd9115",
   "execution_count": 4
  },
  {
   "cell_type": "code",
   "outputs": [],
   "source": [
    "# 1-Verilen bias ve weight’e göre doğrusal regresyon model denklemini oluşturunuz. Bias = 275, Weight= 90 (y’ = b+wx)\n",
    "\n",
    "# y_hat = 275 + (90 * x)"
   ],
   "metadata": {
    "collapsed": false,
    "ExecuteTime": {
     "end_time": "2024-10-11T16:49:48.047840Z",
     "start_time": "2024-10-11T16:49:48.045705Z"
    }
   },
   "id": "7791200893925f5",
   "execution_count": 2
  },
  {
   "cell_type": "code",
   "outputs": [],
   "source": [
    "# 2- Oluşturduğunuz model denklemine göre tablodaki tüm deneyim yılları için maaş tahmini yapınız.\n",
    "\n",
    "# Girdileri (X) ve çıktıları (y) belirle\n",
    "X = df[['Deneyim Yılı (x)']]  # Girdiler (Deneyim Yılı)\n",
    "y = df['Maaş (y)']  # Çıktılar (Maaş)\n"
   ],
   "metadata": {
    "collapsed": false,
    "ExecuteTime": {
     "end_time": "2024-10-11T16:41:59.981887Z",
     "start_time": "2024-10-11T16:41:59.978084Z"
    }
   },
   "id": "9e358eb0f5bb42f4",
   "execution_count": 5
  },
  {
   "cell_type": "code",
   "outputs": [
    {
     "data": {
      "text/plain": "    Deneyim Yılı (x)\n0                  5\n1                  7\n2                  3\n3                  3\n4                  2\n5                  7\n6                  3\n7                 10\n8                  6\n9                  4\n10                 8\n11                 1\n12                 1\n13                 9\n14                 1",
      "text/html": "<div>\n<style scoped>\n    .dataframe tbody tr th:only-of-type {\n        vertical-align: middle;\n    }\n\n    .dataframe tbody tr th {\n        vertical-align: top;\n    }\n\n    .dataframe thead th {\n        text-align: right;\n    }\n</style>\n<table border=\"1\" class=\"dataframe\">\n  <thead>\n    <tr style=\"text-align: right;\">\n      <th></th>\n      <th>Deneyim Yılı (x)</th>\n    </tr>\n  </thead>\n  <tbody>\n    <tr>\n      <th>0</th>\n      <td>5</td>\n    </tr>\n    <tr>\n      <th>1</th>\n      <td>7</td>\n    </tr>\n    <tr>\n      <th>2</th>\n      <td>3</td>\n    </tr>\n    <tr>\n      <th>3</th>\n      <td>3</td>\n    </tr>\n    <tr>\n      <th>4</th>\n      <td>2</td>\n    </tr>\n    <tr>\n      <th>5</th>\n      <td>7</td>\n    </tr>\n    <tr>\n      <th>6</th>\n      <td>3</td>\n    </tr>\n    <tr>\n      <th>7</th>\n      <td>10</td>\n    </tr>\n    <tr>\n      <th>8</th>\n      <td>6</td>\n    </tr>\n    <tr>\n      <th>9</th>\n      <td>4</td>\n    </tr>\n    <tr>\n      <th>10</th>\n      <td>8</td>\n    </tr>\n    <tr>\n      <th>11</th>\n      <td>1</td>\n    </tr>\n    <tr>\n      <th>12</th>\n      <td>1</td>\n    </tr>\n    <tr>\n      <th>13</th>\n      <td>9</td>\n    </tr>\n    <tr>\n      <th>14</th>\n      <td>1</td>\n    </tr>\n  </tbody>\n</table>\n</div>"
     },
     "execution_count": 6,
     "metadata": {},
     "output_type": "execute_result"
    }
   ],
   "source": [
    "X"
   ],
   "metadata": {
    "collapsed": false,
    "ExecuteTime": {
     "end_time": "2024-10-11T16:42:03.100339Z",
     "start_time": "2024-10-11T16:42:03.095549Z"
    }
   },
   "id": "fb25b259e6cbfca5",
   "execution_count": 6
  },
  {
   "cell_type": "code",
   "outputs": [
    {
     "data": {
      "text/plain": "0      600\n1      900\n2      550\n3      500\n4      400\n5      950\n6      540\n7     1200\n8      900\n9      550\n10    1100\n11     460\n12     400\n13    1000\n14     380\nName: Maaş (y), dtype: int64"
     },
     "execution_count": 7,
     "metadata": {},
     "output_type": "execute_result"
    }
   ],
   "source": [
    "y"
   ],
   "metadata": {
    "collapsed": false,
    "ExecuteTime": {
     "end_time": "2024-10-11T16:42:06.278485Z",
     "start_time": "2024-10-11T16:42:06.274023Z"
    }
   },
   "id": "712dc6a011ca2e79",
   "execution_count": 7
  },
  {
   "cell_type": "code",
   "outputs": [
    {
     "data": {
      "text/plain": "LinearRegression()",
      "text/html": "<style>#sk-container-id-1 {\n  /* Definition of color scheme common for light and dark mode */\n  --sklearn-color-text: black;\n  --sklearn-color-line: gray;\n  /* Definition of color scheme for unfitted estimators */\n  --sklearn-color-unfitted-level-0: #fff5e6;\n  --sklearn-color-unfitted-level-1: #f6e4d2;\n  --sklearn-color-unfitted-level-2: #ffe0b3;\n  --sklearn-color-unfitted-level-3: chocolate;\n  /* Definition of color scheme for fitted estimators */\n  --sklearn-color-fitted-level-0: #f0f8ff;\n  --sklearn-color-fitted-level-1: #d4ebff;\n  --sklearn-color-fitted-level-2: #b3dbfd;\n  --sklearn-color-fitted-level-3: cornflowerblue;\n\n  /* Specific color for light theme */\n  --sklearn-color-text-on-default-background: var(--sg-text-color, var(--theme-code-foreground, var(--jp-content-font-color1, black)));\n  --sklearn-color-background: var(--sg-background-color, var(--theme-background, var(--jp-layout-color0, white)));\n  --sklearn-color-border-box: var(--sg-text-color, var(--theme-code-foreground, var(--jp-content-font-color1, black)));\n  --sklearn-color-icon: #696969;\n\n  @media (prefers-color-scheme: dark) {\n    /* Redefinition of color scheme for dark theme */\n    --sklearn-color-text-on-default-background: var(--sg-text-color, var(--theme-code-foreground, var(--jp-content-font-color1, white)));\n    --sklearn-color-background: var(--sg-background-color, var(--theme-background, var(--jp-layout-color0, #111)));\n    --sklearn-color-border-box: var(--sg-text-color, var(--theme-code-foreground, var(--jp-content-font-color1, white)));\n    --sklearn-color-icon: #878787;\n  }\n}\n\n#sk-container-id-1 {\n  color: var(--sklearn-color-text);\n}\n\n#sk-container-id-1 pre {\n  padding: 0;\n}\n\n#sk-container-id-1 input.sk-hidden--visually {\n  border: 0;\n  clip: rect(1px 1px 1px 1px);\n  clip: rect(1px, 1px, 1px, 1px);\n  height: 1px;\n  margin: -1px;\n  overflow: hidden;\n  padding: 0;\n  position: absolute;\n  width: 1px;\n}\n\n#sk-container-id-1 div.sk-dashed-wrapped {\n  border: 1px dashed var(--sklearn-color-line);\n  margin: 0 0.4em 0.5em 0.4em;\n  box-sizing: border-box;\n  padding-bottom: 0.4em;\n  background-color: var(--sklearn-color-background);\n}\n\n#sk-container-id-1 div.sk-container {\n  /* jupyter's `normalize.less` sets `[hidden] { display: none; }`\n     but bootstrap.min.css set `[hidden] { display: none !important; }`\n     so we also need the `!important` here to be able to override the\n     default hidden behavior on the sphinx rendered scikit-learn.org.\n     See: https://github.com/scikit-learn/scikit-learn/issues/21755 */\n  display: inline-block !important;\n  position: relative;\n}\n\n#sk-container-id-1 div.sk-text-repr-fallback {\n  display: none;\n}\n\ndiv.sk-parallel-item,\ndiv.sk-serial,\ndiv.sk-item {\n  /* draw centered vertical line to link estimators */\n  background-image: linear-gradient(var(--sklearn-color-text-on-default-background), var(--sklearn-color-text-on-default-background));\n  background-size: 2px 100%;\n  background-repeat: no-repeat;\n  background-position: center center;\n}\n\n/* Parallel-specific style estimator block */\n\n#sk-container-id-1 div.sk-parallel-item::after {\n  content: \"\";\n  width: 100%;\n  border-bottom: 2px solid var(--sklearn-color-text-on-default-background);\n  flex-grow: 1;\n}\n\n#sk-container-id-1 div.sk-parallel {\n  display: flex;\n  align-items: stretch;\n  justify-content: center;\n  background-color: var(--sklearn-color-background);\n  position: relative;\n}\n\n#sk-container-id-1 div.sk-parallel-item {\n  display: flex;\n  flex-direction: column;\n}\n\n#sk-container-id-1 div.sk-parallel-item:first-child::after {\n  align-self: flex-end;\n  width: 50%;\n}\n\n#sk-container-id-1 div.sk-parallel-item:last-child::after {\n  align-self: flex-start;\n  width: 50%;\n}\n\n#sk-container-id-1 div.sk-parallel-item:only-child::after {\n  width: 0;\n}\n\n/* Serial-specific style estimator block */\n\n#sk-container-id-1 div.sk-serial {\n  display: flex;\n  flex-direction: column;\n  align-items: center;\n  background-color: var(--sklearn-color-background);\n  padding-right: 1em;\n  padding-left: 1em;\n}\n\n\n/* Toggleable style: style used for estimator/Pipeline/ColumnTransformer box that is\nclickable and can be expanded/collapsed.\n- Pipeline and ColumnTransformer use this feature and define the default style\n- Estimators will overwrite some part of the style using the `sk-estimator` class\n*/\n\n/* Pipeline and ColumnTransformer style (default) */\n\n#sk-container-id-1 div.sk-toggleable {\n  /* Default theme specific background. It is overwritten whether we have a\n  specific estimator or a Pipeline/ColumnTransformer */\n  background-color: var(--sklearn-color-background);\n}\n\n/* Toggleable label */\n#sk-container-id-1 label.sk-toggleable__label {\n  cursor: pointer;\n  display: block;\n  width: 100%;\n  margin-bottom: 0;\n  padding: 0.5em;\n  box-sizing: border-box;\n  text-align: center;\n}\n\n#sk-container-id-1 label.sk-toggleable__label-arrow:before {\n  /* Arrow on the left of the label */\n  content: \"▸\";\n  float: left;\n  margin-right: 0.25em;\n  color: var(--sklearn-color-icon);\n}\n\n#sk-container-id-1 label.sk-toggleable__label-arrow:hover:before {\n  color: var(--sklearn-color-text);\n}\n\n/* Toggleable content - dropdown */\n\n#sk-container-id-1 div.sk-toggleable__content {\n  max-height: 0;\n  max-width: 0;\n  overflow: hidden;\n  text-align: left;\n  /* unfitted */\n  background-color: var(--sklearn-color-unfitted-level-0);\n}\n\n#sk-container-id-1 div.sk-toggleable__content.fitted {\n  /* fitted */\n  background-color: var(--sklearn-color-fitted-level-0);\n}\n\n#sk-container-id-1 div.sk-toggleable__content pre {\n  margin: 0.2em;\n  border-radius: 0.25em;\n  color: var(--sklearn-color-text);\n  /* unfitted */\n  background-color: var(--sklearn-color-unfitted-level-0);\n}\n\n#sk-container-id-1 div.sk-toggleable__content.fitted pre {\n  /* unfitted */\n  background-color: var(--sklearn-color-fitted-level-0);\n}\n\n#sk-container-id-1 input.sk-toggleable__control:checked~div.sk-toggleable__content {\n  /* Expand drop-down */\n  max-height: 200px;\n  max-width: 100%;\n  overflow: auto;\n}\n\n#sk-container-id-1 input.sk-toggleable__control:checked~label.sk-toggleable__label-arrow:before {\n  content: \"▾\";\n}\n\n/* Pipeline/ColumnTransformer-specific style */\n\n#sk-container-id-1 div.sk-label input.sk-toggleable__control:checked~label.sk-toggleable__label {\n  color: var(--sklearn-color-text);\n  background-color: var(--sklearn-color-unfitted-level-2);\n}\n\n#sk-container-id-1 div.sk-label.fitted input.sk-toggleable__control:checked~label.sk-toggleable__label {\n  background-color: var(--sklearn-color-fitted-level-2);\n}\n\n/* Estimator-specific style */\n\n/* Colorize estimator box */\n#sk-container-id-1 div.sk-estimator input.sk-toggleable__control:checked~label.sk-toggleable__label {\n  /* unfitted */\n  background-color: var(--sklearn-color-unfitted-level-2);\n}\n\n#sk-container-id-1 div.sk-estimator.fitted input.sk-toggleable__control:checked~label.sk-toggleable__label {\n  /* fitted */\n  background-color: var(--sklearn-color-fitted-level-2);\n}\n\n#sk-container-id-1 div.sk-label label.sk-toggleable__label,\n#sk-container-id-1 div.sk-label label {\n  /* The background is the default theme color */\n  color: var(--sklearn-color-text-on-default-background);\n}\n\n/* On hover, darken the color of the background */\n#sk-container-id-1 div.sk-label:hover label.sk-toggleable__label {\n  color: var(--sklearn-color-text);\n  background-color: var(--sklearn-color-unfitted-level-2);\n}\n\n/* Label box, darken color on hover, fitted */\n#sk-container-id-1 div.sk-label.fitted:hover label.sk-toggleable__label.fitted {\n  color: var(--sklearn-color-text);\n  background-color: var(--sklearn-color-fitted-level-2);\n}\n\n/* Estimator label */\n\n#sk-container-id-1 div.sk-label label {\n  font-family: monospace;\n  font-weight: bold;\n  display: inline-block;\n  line-height: 1.2em;\n}\n\n#sk-container-id-1 div.sk-label-container {\n  text-align: center;\n}\n\n/* Estimator-specific */\n#sk-container-id-1 div.sk-estimator {\n  font-family: monospace;\n  border: 1px dotted var(--sklearn-color-border-box);\n  border-radius: 0.25em;\n  box-sizing: border-box;\n  margin-bottom: 0.5em;\n  /* unfitted */\n  background-color: var(--sklearn-color-unfitted-level-0);\n}\n\n#sk-container-id-1 div.sk-estimator.fitted {\n  /* fitted */\n  background-color: var(--sklearn-color-fitted-level-0);\n}\n\n/* on hover */\n#sk-container-id-1 div.sk-estimator:hover {\n  /* unfitted */\n  background-color: var(--sklearn-color-unfitted-level-2);\n}\n\n#sk-container-id-1 div.sk-estimator.fitted:hover {\n  /* fitted */\n  background-color: var(--sklearn-color-fitted-level-2);\n}\n\n/* Specification for estimator info (e.g. \"i\" and \"?\") */\n\n/* Common style for \"i\" and \"?\" */\n\n.sk-estimator-doc-link,\na:link.sk-estimator-doc-link,\na:visited.sk-estimator-doc-link {\n  float: right;\n  font-size: smaller;\n  line-height: 1em;\n  font-family: monospace;\n  background-color: var(--sklearn-color-background);\n  border-radius: 1em;\n  height: 1em;\n  width: 1em;\n  text-decoration: none !important;\n  margin-left: 1ex;\n  /* unfitted */\n  border: var(--sklearn-color-unfitted-level-1) 1pt solid;\n  color: var(--sklearn-color-unfitted-level-1);\n}\n\n.sk-estimator-doc-link.fitted,\na:link.sk-estimator-doc-link.fitted,\na:visited.sk-estimator-doc-link.fitted {\n  /* fitted */\n  border: var(--sklearn-color-fitted-level-1) 1pt solid;\n  color: var(--sklearn-color-fitted-level-1);\n}\n\n/* On hover */\ndiv.sk-estimator:hover .sk-estimator-doc-link:hover,\n.sk-estimator-doc-link:hover,\ndiv.sk-label-container:hover .sk-estimator-doc-link:hover,\n.sk-estimator-doc-link:hover {\n  /* unfitted */\n  background-color: var(--sklearn-color-unfitted-level-3);\n  color: var(--sklearn-color-background);\n  text-decoration: none;\n}\n\ndiv.sk-estimator.fitted:hover .sk-estimator-doc-link.fitted:hover,\n.sk-estimator-doc-link.fitted:hover,\ndiv.sk-label-container:hover .sk-estimator-doc-link.fitted:hover,\n.sk-estimator-doc-link.fitted:hover {\n  /* fitted */\n  background-color: var(--sklearn-color-fitted-level-3);\n  color: var(--sklearn-color-background);\n  text-decoration: none;\n}\n\n/* Span, style for the box shown on hovering the info icon */\n.sk-estimator-doc-link span {\n  display: none;\n  z-index: 9999;\n  position: relative;\n  font-weight: normal;\n  right: .2ex;\n  padding: .5ex;\n  margin: .5ex;\n  width: min-content;\n  min-width: 20ex;\n  max-width: 50ex;\n  color: var(--sklearn-color-text);\n  box-shadow: 2pt 2pt 4pt #999;\n  /* unfitted */\n  background: var(--sklearn-color-unfitted-level-0);\n  border: .5pt solid var(--sklearn-color-unfitted-level-3);\n}\n\n.sk-estimator-doc-link.fitted span {\n  /* fitted */\n  background: var(--sklearn-color-fitted-level-0);\n  border: var(--sklearn-color-fitted-level-3);\n}\n\n.sk-estimator-doc-link:hover span {\n  display: block;\n}\n\n/* \"?\"-specific style due to the `<a>` HTML tag */\n\n#sk-container-id-1 a.estimator_doc_link {\n  float: right;\n  font-size: 1rem;\n  line-height: 1em;\n  font-family: monospace;\n  background-color: var(--sklearn-color-background);\n  border-radius: 1rem;\n  height: 1rem;\n  width: 1rem;\n  text-decoration: none;\n  /* unfitted */\n  color: var(--sklearn-color-unfitted-level-1);\n  border: var(--sklearn-color-unfitted-level-1) 1pt solid;\n}\n\n#sk-container-id-1 a.estimator_doc_link.fitted {\n  /* fitted */\n  border: var(--sklearn-color-fitted-level-1) 1pt solid;\n  color: var(--sklearn-color-fitted-level-1);\n}\n\n/* On hover */\n#sk-container-id-1 a.estimator_doc_link:hover {\n  /* unfitted */\n  background-color: var(--sklearn-color-unfitted-level-3);\n  color: var(--sklearn-color-background);\n  text-decoration: none;\n}\n\n#sk-container-id-1 a.estimator_doc_link.fitted:hover {\n  /* fitted */\n  background-color: var(--sklearn-color-fitted-level-3);\n}\n</style><div id=\"sk-container-id-1\" class=\"sk-top-container\"><div class=\"sk-text-repr-fallback\"><pre>LinearRegression()</pre><b>In a Jupyter environment, please rerun this cell to show the HTML representation or trust the notebook. <br />On GitHub, the HTML representation is unable to render, please try loading this page with nbviewer.org.</b></div><div class=\"sk-container\" hidden><div class=\"sk-item\"><div class=\"sk-estimator fitted sk-toggleable\"><input class=\"sk-toggleable__control sk-hidden--visually\" id=\"sk-estimator-id-1\" type=\"checkbox\" checked><label for=\"sk-estimator-id-1\" class=\"sk-toggleable__label fitted sk-toggleable__label-arrow fitted\">&nbsp;&nbsp;LinearRegression<a class=\"sk-estimator-doc-link fitted\" rel=\"noreferrer\" target=\"_blank\" href=\"https://scikit-learn.org/1.5/modules/generated/sklearn.linear_model.LinearRegression.html\">?<span>Documentation for LinearRegression</span></a><span class=\"sk-estimator-doc-link fitted\">i<span>Fitted</span></span></label><div class=\"sk-toggleable__content fitted\"><pre>LinearRegression()</pre></div> </div></div></div></div>"
     },
     "execution_count": 8,
     "metadata": {},
     "output_type": "execute_result"
    }
   ],
   "source": [
    "# Doğrusal regresyon modelini oluştur ve eğit\n",
    "model = LinearRegression()\n",
    "model.fit(X, y)\n"
   ],
   "metadata": {
    "collapsed": false,
    "ExecuteTime": {
     "end_time": "2024-10-11T16:42:19.186385Z",
     "start_time": "2024-10-11T16:42:19.178100Z"
    }
   },
   "id": "9de5bdfc712f1edb",
   "execution_count": 8
  },
  {
   "cell_type": "code",
   "outputs": [
    {
     "name": "stdout",
     "output_type": "stream",
     "text": [
      "Y-intercept (b0): 274.3560209424085\n",
      "Slope (b1): 90.2094240837696\n"
     ]
    }
   ],
   "source": [
    "# Modelin katsayılarını yazdır\n",
    "print(f\"Y-intercept (b0): {model.intercept_}\")\n",
    "print(f\"Slope (b1): {model.coef_[0]}\")"
   ],
   "metadata": {
    "collapsed": false,
    "ExecuteTime": {
     "end_time": "2024-10-11T16:42:31.026763Z",
     "start_time": "2024-10-11T16:42:31.023012Z"
    }
   },
   "id": "8496f9511c99c9d",
   "execution_count": 9
  },
  {
   "cell_type": "code",
   "outputs": [
    {
     "data": {
      "text/plain": "    Deneyim Yılı (x)  Maaş (y)       y_pred\n0                  5       600   725.403141\n1                  7       900   905.821990\n2                  3       550   544.984293\n3                  3       500   544.984293\n4                  2       400   454.774869\n5                  7       950   905.821990\n6                  3       540   544.984293\n7                 10      1200  1176.450262\n8                  6       900   815.612565\n9                  4       550   635.193717\n10                 8      1100   996.031414\n11                 1       460   364.565445\n12                 1       400   364.565445\n13                 9      1000  1086.240838\n14                 1       380   364.565445",
      "text/html": "<div>\n<style scoped>\n    .dataframe tbody tr th:only-of-type {\n        vertical-align: middle;\n    }\n\n    .dataframe tbody tr th {\n        vertical-align: top;\n    }\n\n    .dataframe thead th {\n        text-align: right;\n    }\n</style>\n<table border=\"1\" class=\"dataframe\">\n  <thead>\n    <tr style=\"text-align: right;\">\n      <th></th>\n      <th>Deneyim Yılı (x)</th>\n      <th>Maaş (y)</th>\n      <th>y_pred</th>\n    </tr>\n  </thead>\n  <tbody>\n    <tr>\n      <th>0</th>\n      <td>5</td>\n      <td>600</td>\n      <td>725.403141</td>\n    </tr>\n    <tr>\n      <th>1</th>\n      <td>7</td>\n      <td>900</td>\n      <td>905.821990</td>\n    </tr>\n    <tr>\n      <th>2</th>\n      <td>3</td>\n      <td>550</td>\n      <td>544.984293</td>\n    </tr>\n    <tr>\n      <th>3</th>\n      <td>3</td>\n      <td>500</td>\n      <td>544.984293</td>\n    </tr>\n    <tr>\n      <th>4</th>\n      <td>2</td>\n      <td>400</td>\n      <td>454.774869</td>\n    </tr>\n    <tr>\n      <th>5</th>\n      <td>7</td>\n      <td>950</td>\n      <td>905.821990</td>\n    </tr>\n    <tr>\n      <th>6</th>\n      <td>3</td>\n      <td>540</td>\n      <td>544.984293</td>\n    </tr>\n    <tr>\n      <th>7</th>\n      <td>10</td>\n      <td>1200</td>\n      <td>1176.450262</td>\n    </tr>\n    <tr>\n      <th>8</th>\n      <td>6</td>\n      <td>900</td>\n      <td>815.612565</td>\n    </tr>\n    <tr>\n      <th>9</th>\n      <td>4</td>\n      <td>550</td>\n      <td>635.193717</td>\n    </tr>\n    <tr>\n      <th>10</th>\n      <td>8</td>\n      <td>1100</td>\n      <td>996.031414</td>\n    </tr>\n    <tr>\n      <th>11</th>\n      <td>1</td>\n      <td>460</td>\n      <td>364.565445</td>\n    </tr>\n    <tr>\n      <th>12</th>\n      <td>1</td>\n      <td>400</td>\n      <td>364.565445</td>\n    </tr>\n    <tr>\n      <th>13</th>\n      <td>9</td>\n      <td>1000</td>\n      <td>1086.240838</td>\n    </tr>\n    <tr>\n      <th>14</th>\n      <td>1</td>\n      <td>380</td>\n      <td>364.565445</td>\n    </tr>\n  </tbody>\n</table>\n</div>"
     },
     "execution_count": 10,
     "metadata": {},
     "output_type": "execute_result"
    }
   ],
   "source": [
    "# Tahmin edilen maaşlar\n",
    "y_pred = model.predict(X)\n",
    "\n",
    "df[\"y_pred\"] = y_pred\n",
    "\n",
    "df\n"
   ],
   "metadata": {
    "collapsed": false,
    "ExecuteTime": {
     "end_time": "2024-10-11T16:42:47.961887Z",
     "start_time": "2024-10-11T16:42:47.955187Z"
    }
   },
   "id": "f183b318fccf3ef1",
   "execution_count": 10
  },
  {
   "cell_type": "code",
   "outputs": [
    {
     "data": {
      "text/plain": "<Figure size 640x480 with 1 Axes>",
      "image/png": "[encoded data removed]"
     },
     "metadata": {},
     "output_type": "display_data"
    }
   ],
   "source": [
    "# Gerçek ve tahmin edilen verileri görselleştir\n",
    "plt.scatter(X, y, color='blue', label='Gerçek Veriler')\n",
    "plt.plot(X, y_pred, color='red', label='Model Tahminleri')\n",
    "plt.xlabel('Deneyim Yılı (x)')\n",
    "plt.ylabel('Maaş (y)')\n",
    "plt.title('Basit Doğrusal Regresyon')\n",
    "plt.legend()\n",
    "plt.show()\n"
   ],
   "metadata": {
    "collapsed": false,
    "ExecuteTime": {
     "end_time": "2024-10-11T16:43:03.664774Z",
     "start_time": "2024-10-11T16:43:03.576134Z"
    }
   },
   "id": "c64102ce80111d90",
   "execution_count": 11
  },
  {
   "cell_type": "code",
   "outputs": [
    {
     "name": "stdout",
     "output_type": "stream",
     "text": [
      "Mean Squared Error (MSE): 4437.849912739966\n",
      "Root Mean Squared Error (RMSE): 66.61718931882346\n",
      "Mean Absolute Error (MAE): 54.320418848167535\n"
     ]
    }
   ],
   "source": [
    "# 3-Modelin başarısını ölçmek için MSE, RMSE, MAE skorlarını hesaplayınız\n",
    "\n",
    "# MSE, RMSE, MAE hesaplama\n",
    "mse = mean_squared_error(y, y_pred)\n",
    "rmse = np.sqrt(mse)\n",
    "mae = mean_absolute_error(y, y_pred)\n",
    "\n",
    "# Sonuçları yazdır\n",
    "print(f\"Mean Squared Error (MSE): {mse}\")\n",
    "print(f\"Root Mean Squared Error (RMSE): {rmse}\")\n",
    "print(f\"Mean Absolute Error (MAE): {mae}\")\n"
   ],
   "metadata": {
    "collapsed": false,
    "ExecuteTime": {
     "end_time": "2024-10-11T16:43:25.242885Z",
     "start_time": "2024-10-11T16:43:25.238957Z"
    }
   },
   "id": "9844679205b3de0f",
   "execution_count": 12
  },
  {
   "cell_type": "code",
   "outputs": [
    {
     "data": {
      "text/plain": "    Deneyim Yılı (x)  Maaş (y)       y_pred          MSE       RMSE        MAE\n0                  5       600   725.403141  4437.849913  66.617189  54.320419\n1                  7       900   905.821990  4437.849913  66.617189  54.320419\n2                  3       550   544.984293  4437.849913  66.617189  54.320419\n3                  3       500   544.984293  4437.849913  66.617189  54.320419\n4                  2       400   454.774869  4437.849913  66.617189  54.320419\n5                  7       950   905.821990  4437.849913  66.617189  54.320419\n6                  3       540   544.984293  4437.849913  66.617189  54.320419\n7                 10      1200  1176.450262  4437.849913  66.617189  54.320419\n8                  6       900   815.612565  4437.849913  66.617189  54.320419\n9                  4       550   635.193717  4437.849913  66.617189  54.320419\n10                 8      1100   996.031414  4437.849913  66.617189  54.320419\n11                 1       460   364.565445  4437.849913  66.617189  54.320419\n12                 1       400   364.565445  4437.849913  66.617189  54.320419\n13                 9      1000  1086.240838  4437.849913  66.617189  54.320419\n14                 1       380   364.565445  4437.849913  66.617189  54.320419",
      "text/html": "<div>\n<style scoped>\n    .dataframe tbody tr th:only-of-type {\n        vertical-align: middle;\n    }\n\n    .dataframe tbody tr th {\n        vertical-align: top;\n    }\n\n    .dataframe thead th {\n        text-align: right;\n    }\n</style>\n<table border=\"1\" class=\"dataframe\">\n  <thead>\n    <tr style=\"text-align: right;\">\n      <th></th>\n      <th>Deneyim Yılı (x)</th>\n      <th>Maaş (y)</th>\n      <th>y_pred</th>\n      <th>MSE</th>\n      <th>RMSE</th>\n      <th>MAE</th>\n    </tr>\n  </thead>\n  <tbody>\n    <tr>\n      <th>0</th>\n      <td>5</td>\n      <td>600</td>\n      <td>725.403141</td>\n      <td>4437.849913</td>\n      <td>66.617189</td>\n      <td>54.320419</td>\n    </tr>\n    <tr>\n      <th>1</th>\n      <td>7</td>\n      <td>900</td>\n      <td>905.821990</td>\n      <td>4437.849913</td>\n      <td>66.617189</td>\n      <td>54.320419</td>\n    </tr>\n    <tr>\n      <th>2</th>\n      <td>3</td>\n      <td>550</td>\n      <td>544.984293</td>\n      <td>4437.849913</td>\n      <td>66.617189</td>\n      <td>54.320419</td>\n    </tr>\n    <tr>\n      <th>3</th>\n      <td>3</td>\n      <td>500</td>\n      <td>544.984293</td>\n      <td>4437.849913</td>\n      <td>66.617189</td>\n      <td>54.320419</td>\n    </tr>\n    <tr>\n      <th>4</th>\n      <td>2</td>\n      <td>400</td>\n      <td>454.774869</td>\n      <td>4437.849913</td>\n      <td>66.617189</td>\n      <td>54.320419</td>\n    </tr>\n    <tr>\n      <th>5</th>\n      <td>7</td>\n      <td>950</td>\n      <td>905.821990</td>\n      <td>4437.849913</td>\n      <td>66.617189</td>\n      <td>54.320419</td>\n    </tr>\n    <tr>\n      <th>6</th>\n      <td>3</td>\n      <td>540</td>\n      <td>544.984293</td>\n      <td>4437.849913</td>\n      <td>66.617189</td>\n      <td>54.320419</td>\n    </tr>\n    <tr>\n      <th>7</th>\n      <td>10</td>\n      <td>1200</td>\n      <td>1176.450262</td>\n      <td>4437.849913</td>\n      <td>66.617189</td>\n      <td>54.320419</td>\n    </tr>\n    <tr>\n      <th>8</th>\n      <td>6</td>\n      <td>900</td>\n      <td>815.612565</td>\n      <td>4437.849913</td>\n      <td>66.617189</td>\n      <td>54.320419</td>\n    </tr>\n    <tr>\n      <th>9</th>\n      <td>4</td>\n      <td>550</td>\n      <td>635.193717</td>\n      <td>4437.849913</td>\n      <td>66.617189</td>\n      <td>54.320419</td>\n    </tr>\n    <tr>\n      <th>10</th>\n      <td>8</td>\n      <td>1100</td>\n      <td>996.031414</td>\n      <td>4437.849913</td>\n      <td>66.617189</td>\n      <td>54.320419</td>\n    </tr>\n    <tr>\n      <th>11</th>\n      <td>1</td>\n      <td>460</td>\n      <td>364.565445</td>\n      <td>4437.849913</td>\n      <td>66.617189</td>\n      <td>54.320419</td>\n    </tr>\n    <tr>\n      <th>12</th>\n      <td>1</td>\n      <td>400</td>\n      <td>364.565445</td>\n      <td>4437.849913</td>\n      <td>66.617189</td>\n      <td>54.320419</td>\n    </tr>\n    <tr>\n      <th>13</th>\n      <td>9</td>\n      <td>1000</td>\n      <td>1086.240838</td>\n      <td>4437.849913</td>\n      <td>66.617189</td>\n      <td>54.320419</td>\n    </tr>\n    <tr>\n      <th>14</th>\n      <td>1</td>\n      <td>380</td>\n      <td>364.565445</td>\n      <td>4437.849913</td>\n      <td>66.617189</td>\n      <td>54.320419</td>\n    </tr>\n  </tbody>\n</table>\n</div>"
     },
     "execution_count": 13,
     "metadata": {},
     "output_type": "execute_result"
    }
   ],
   "source": [
    "# MSE, RMSE, MAE'nin veri setine eklenmesi\n",
    "df[\"MSE\"] = mse\n",
    "df[\"RMSE\"] = rmse\n",
    "df[\"MAE\"] = mae\n",
    "\n",
    "df\n"
   ],
   "metadata": {
    "collapsed": false,
    "ExecuteTime": {
     "end_time": "2024-10-11T16:43:50.670280Z",
     "start_time": "2024-10-11T16:43:50.662738Z"
    }
   },
   "id": "b8e2925758437d2e",
   "execution_count": 13
  },
  {
   "cell_type": "code",
   "outputs": [
    {
     "name": "stdout",
     "output_type": "stream",
     "text": [
      "Manuel Mean Squared Error (MSE): 4437.849912739966\n",
      "Mean Squared Error (MSE): 4437.849912739966\n",
      "##################################################\n",
      "Manuel Root Mean Squared Error (RMSE): 66.61718931882346\n",
      "Root Mean Squared Error (RMSE): 66.61718931882346\n",
      "##################################################\n",
      "Manuel Mean Absolute Error (MAE): 54.320418848167535\n",
      "Mean Absolute Error (MAE): 54.320418848167535\n"
     ]
    }
   ],
   "source": [
    "# MSE, RMSE, MAE'yi manuel olarak hesaplama\n",
    "\n",
    "n = len(y)  # Veri sayısı\n",
    "\n",
    "# Gerçek değerler ile tahmin edilen değerler arasındaki farkları hesapla\n",
    "errors = y - y_pred\n",
    "\n",
    "# MSE hesaplama\n",
    "mse_manual = (errors ** 2).sum() / n\n",
    "\n",
    "# RMSE hesaplama\n",
    "rmse_manual = np.sqrt(mse_manual)\n",
    "\n",
    "# MAE hesaplama\n",
    "mae_manual = np.abs(errors).sum() / n\n",
    "\n",
    "# Sonuçları yazdır\n",
    "print(f\"Manuel Mean Squared Error (MSE): {mse_manual}\")\n",
    "print(f\"Mean Squared Error (MSE): {mse}\")\n",
    "print(\"#\"*50)\n",
    "print(f\"Manuel Root Mean Squared Error (RMSE): {rmse_manual}\")\n",
    "print(f\"Root Mean Squared Error (RMSE): {rmse}\")\n",
    "print(\"#\"*50)\n",
    "print(f\"Manuel Mean Absolute Error (MAE): {mae_manual}\")\n",
    "print(f\"Mean Absolute Error (MAE): {mae}\")\n"
   ],
   "metadata": {
    "collapsed": false,
    "ExecuteTime": {
     "end_time": "2024-10-11T16:44:28.518351Z",
     "start_time": "2024-10-11T16:44:28.513584Z"
    }
   },
   "id": "2203983642bf04a7",
   "execution_count": 15
  },
  {
   "cell_type": "code",
   "outputs": [
    {
     "data": {
      "text/plain": "    Deneyim Yılı (x)  Maaş (y)       y_pred          MSE       RMSE        MAE   MSE_MANUAL  RMSE_MANUAL  MAE_MANUAL\n0                  5       600   725.403141  4437.849913  66.617189  54.320419  4437.849913    66.617189   54.320419\n1                  7       900   905.821990  4437.849913  66.617189  54.320419  4437.849913    66.617189   54.320419\n2                  3       550   544.984293  4437.849913  66.617189  54.320419  4437.849913    66.617189   54.320419\n3                  3       500   544.984293  4437.849913  66.617189  54.320419  4437.849913    66.617189   54.320419\n4                  2       400   454.774869  4437.849913  66.617189  54.320419  4437.849913    66.617189   54.320419\n5                  7       950   905.821990  4437.849913  66.617189  54.320419  4437.849913    66.617189   54.320419\n6                  3       540   544.984293  4437.849913  66.617189  54.320419  4437.849913    66.617189   54.320419\n7                 10      1200  1176.450262  4437.849913  66.617189  54.320419  4437.849913    66.617189   54.320419\n8                  6       900   815.612565  4437.849913  66.617189  54.320419  4437.849913    66.617189   54.320419\n9                  4       550   635.193717  4437.849913  66.617189  54.320419  4437.849913    66.617189   54.320419\n10                 8      1100   996.031414  4437.849913  66.617189  54.320419  4437.849913    66.617189   54.320419\n11                 1       460   364.565445  4437.849913  66.617189  54.320419  4437.849913    66.617189   54.320419\n12                 1       400   364.565445  4437.849913  66.617189  54.320419  4437.849913    66.617189   54.320419\n13                 9      1000  1086.240838  4437.849913  66.617189  54.320419  4437.849913    66.617189   54.320419\n14                 1       380   364.565445  4437.849913  66.617189  54.320419  4437.849913    66.617189   54.320419",
      "text/html": "<div>\n<style scoped>\n    .dataframe tbody tr th:only-of-type {\n        vertical-align: middle;\n    }\n\n    .dataframe tbody tr th {\n        vertical-align: top;\n    }\n\n    .dataframe thead th {\n        text-align: right;\n    }\n</style>\n<table border=\"1\" class=\"dataframe\">\n  <thead>\n    <tr style=\"text-align: right;\">\n      <th></th>\n      <th>Deneyim Yılı (x)</th>\n      <th>Maaş (y)</th>\n      <th>y_pred</th>\n      <th>MSE</th>\n      <th>RMSE</th>\n      <th>MAE</th>\n      <th>MSE_MANUAL</th>\n      <th>RMSE_MANUAL</th>\n      <th>MAE_MANUAL</th>\n    </tr>\n  </thead>\n  <tbody>\n    <tr>\n      <th>0</th>\n      <td>5</td>\n      <td>600</td>\n      <td>725.403141</td>\n      <td>4437.849913</td>\n      <td>66.617189</td>\n      <td>54.320419</td>\n      <td>4437.849913</td>\n      <td>66.617189</td>\n      <td>54.320419</td>\n    </tr>\n    <tr>\n      <th>1</th>\n      <td>7</td>\n      <td>900</td>\n      <td>905.821990</td>\n      <td>4437.849913</td>\n      <td>66.617189</td>\n      <td>54.320419</td>\n      <td>4437.849913</td>\n      <td>66.617189</td>\n      <td>54.320419</td>\n    </tr>\n    <tr>\n      <th>2</th>\n      <td>3</td>\n      <td>550</td>\n      <td>544.984293</td>\n      <td>4437.849913</td>\n      <td>66.617189</td>\n      <td>54.320419</td>\n      <td>4437.849913</td>\n      <td>66.617189</td>\n      <td>54.320419</td>\n    </tr>\n    <tr>\n      <th>3</th>\n      <td>3</td>\n      <td>500</td>\n      <td>544.984293</td>\n      <td>4437.849913</td>\n      <td>66.617189</td>\n      <td>54.320419</td>\n      <td>4437.849913</td>\n      <td>66.617189</td>\n      <td>54.320419</td>\n    </tr>\n    <tr>\n      <th>4</th>\n      <td>2</td>\n      <td>400</td>\n      <td>454.774869</td>\n      <td>4437.849913</td>\n      <td>66.617189</td>\n      <td>54.320419</td>\n      <td>4437.849913</td>\n      <td>66.617189</td>\n      <td>54.320419</td>\n    </tr>\n    <tr>\n      <th>5</th>\n      <td>7</td>\n      <td>950</td>\n      <td>905.821990</td>\n      <td>4437.849913</td>\n      <td>66.617189</td>\n      <td>54.320419</td>\n      <td>4437.849913</td>\n      <td>66.617189</td>\n      <td>54.320419</td>\n    </tr>\n    <tr>\n      <th>6</th>\n      <td>3</td>\n      <td>540</td>\n      <td>544.984293</td>\n      <td>4437.849913</td>\n      <td>66.617189</td>\n      <td>54.320419</td>\n      <td>4437.849913</td>\n      <td>66.617189</td>\n      <td>54.320419</td>\n    </tr>\n    <tr>\n      <th>7</th>\n      <td>10</td>\n      <td>1200</td>\n      <td>1176.450262</td>\n      <td>4437.849913</td>\n      <td>66.617189</td>\n      <td>54.320419</td>\n      <td>4437.849913</td>\n      <td>66.617189</td>\n      <td>54.320419</td>\n    </tr>\n    <tr>\n      <th>8</th>\n      <td>6</td>\n      <td>900</td>\n      <td>815.612565</td>\n      <td>4437.849913</td>\n      <td>66.617189</td>\n      <td>54.320419</td>\n      <td>4437.849913</td>\n      <td>66.617189</td>\n      <td>54.320419</td>\n    </tr>\n    <tr>\n      <th>9</th>\n      <td>4</td>\n      <td>550</td>\n      <td>635.193717</td>\n      <td>4437.849913</td>\n      <td>66.617189</td>\n      <td>54.320419</td>\n      <td>4437.849913</td>\n      <td>66.617189</td>\n      <td>54.320419</td>\n    </tr>\n    <tr>\n      <th>10</th>\n      <td>8</td>\n      <td>1100</td>\n      <td>996.031414</td>\n      <td>4437.849913</td>\n      <td>66.617189</td>\n      <td>54.320419</td>\n      <td>4437.849913</td>\n      <td>66.617189</td>\n      <td>54.320419</td>\n    </tr>\n    <tr>\n      <th>11</th>\n      <td>1</td>\n      <td>460</td>\n      <td>364.565445</td>\n      <td>4437.849913</td>\n      <td>66.617189</td>\n      <td>54.320419</td>\n      <td>4437.849913</td>\n      <td>66.617189</td>\n      <td>54.320419</td>\n    </tr>\n    <tr>\n      <th>12</th>\n      <td>1</td>\n      <td>400</td>\n      <td>364.565445</td>\n      <td>4437.849913</td>\n      <td>66.617189</td>\n      <td>54.320419</td>\n      <td>4437.849913</td>\n      <td>66.617189</td>\n      <td>54.320419</td>\n    </tr>\n    <tr>\n      <th>13</th>\n      <td>9</td>\n      <td>1000</td>\n      <td>1086.240838</td>\n      <td>4437.849913</td>\n      <td>66.617189</td>\n      <td>54.320419</td>\n      <td>4437.849913</td>\n      <td>66.617189</td>\n      <td>54.320419</td>\n    </tr>\n    <tr>\n      <th>14</th>\n      <td>1</td>\n      <td>380</td>\n      <td>364.565445</td>\n      <td>4437.849913</td>\n      <td>66.617189</td>\n      <td>54.320419</td>\n      <td>4437.849913</td>\n      <td>66.617189</td>\n      <td>54.320419</td>\n    </tr>\n  </tbody>\n</table>\n</div>"
     },
     "execution_count": 16,
     "metadata": {},
     "output_type": "execute_result"
    }
   ],
   "source": [
    "# MSE_MANUAL, RMSE_MANUAL ve MAE_MANUAL'in veri setine eklenmesi\n",
    "df[\"MSE_MANUAL\"] = mse_manual\n",
    "df[\"RMSE_MANUAL\"] = rmse_manual\n",
    "df[\"MAE_MANUAL\"] = mae_manual\n",
    "\n",
    "df\n"
   ],
   "metadata": {
    "collapsed": false,
    "ExecuteTime": {
     "end_time": "2024-10-11T16:45:01.579852Z",
     "start_time": "2024-10-11T16:45:01.571801Z"
    }
   },
   "id": "94c7ec365c74d4d8",
   "execution_count": 16
  },
  {
   "cell_type": "code",
   "outputs": [],
   "source": [
    "# Projenin Fonksiyonlaştırılması"
   ],
   "metadata": {
    "collapsed": false,
    "ExecuteTime": {
     "end_time": "2024-10-11T16:45:17.813446Z",
     "start_time": "2024-10-11T16:45:17.810684Z"
    }
   },
   "id": "fd1195f8e89b254c",
   "execution_count": 17
  },
  {
   "cell_type": "code",
   "outputs": [],
   "source": [
    "# Veriyi oluşturan fonksiyon\n",
    "def create_dataframe():\n",
    "    data = {\n",
    "        'Deneyim Yılı (x)': [5, 7, 3, 3, 2, 7, 3, 10, 6, 4, 8, 1, 1, 9, 1],\n",
    "        'Maaş (y)': [600, 900, 550, 500, 400, 950, 540, 1200, 900, 550, 1100, 460, 400, 1000, 380]\n",
    "    }\n",
    "    df = pd.DataFrame(data)\n",
    "    return df\n",
    "\n",
    "# Doğrusal regresyon modelini oluşturan ve tahminler yapan fonksiyon\n",
    "def linear_regression_model(df):\n",
    "    X = df[['Deneyim Yılı (x)']]  # Girdiler\n",
    "    y = df['Maaş (y)']  # Çıktılar\n",
    "\n",
    "    model = LinearRegression()\n",
    "    model.fit(X, y)\n",
    "    y_pred = model.predict(X)\n",
    "\n",
    "    df['y_pred'] = y_pred\n",
    "    return model, df\n",
    "\n",
    "# MSE, RMSE, MAE hesaplayan fonksiyon (otomatik)\n",
    "def calculate_metrics_auto(y, y_pred):\n",
    "    mse = mean_squared_error(y, y_pred)\n",
    "    rmse = np.sqrt(mse)\n",
    "    mae = mean_absolute_error(y, y_pred)\n",
    "    return mse, rmse, mae\n",
    "\n",
    "# MSE, RMSE, MAE hesaplayan fonksiyon (manuel)\n",
    "def calculate_metrics_manual(y, y_pred):\n",
    "    n = len(y)\n",
    "    errors = y - y_pred\n",
    "\n",
    "    mse_manual = (errors ** 2).sum() / n\n",
    "    rmse_manual = np.sqrt(mse_manual)\n",
    "    mae_manual = np.abs(errors).sum() / n\n",
    "    return mse_manual, rmse_manual, mae_manual\n",
    "\n",
    "# Grafik çizen fonksiyon\n",
    "def plot_results(X, y, y_pred):\n",
    "    plt.scatter(X, y, color='blue', label='Gerçek Veriler')\n",
    "    plt.plot(X, y_pred, color='red', label='Model Tahminleri')\n",
    "    plt.xlabel('Deneyim Yılı (x)')\n",
    "    plt.ylabel('Maaş (y)')\n",
    "    plt.title('Basit Doğrusal Regresyon')\n",
    "    plt.legend()\n",
    "    plt.show()\n",
    "\n",
    "# Tüm işlemleri yürüten ana fonksiyon\n",
    "def main():\n",
    "    # Veriyi oluştur\n",
    "    df = create_dataframe()\n",
    "\n",
    "    # Model oluştur ve tahminler yap\n",
    "    model, df = linear_regression_model(df)\n",
    "    print(f\"Y-intercept (b0): {model.intercept_}\")\n",
    "    print(f\"Slope (b1): {model.coef_[0]}\")\n",
    "\n",
    "    # Otomatik metrikleri hesapla\n",
    "    mse, rmse, mae = calculate_metrics_auto(df['Maaş (y)'], df['y_pred'])\n",
    "    print(f\"Mean Squared Error (MSE): {mse}\")\n",
    "    print(f\"Root Mean Squared Error (RMSE): {rmse}\")\n",
    "    print(f\"Mean Absolute Error (MAE): {mae}\")\n",
    "\n",
    "    # Manuel metrikleri hesapla\n",
    "    mse_manual, rmse_manual, mae_manual = calculate_metrics_manual(df['Maaş (y)'], df['y_pred'])\n",
    "    print(f\"Manuel Mean Squared Error (MSE_MANUAL): {mse_manual}\")\n",
    "    print(f\"Manuel Root Mean Squared Error (RMSE_MANUAL): {rmse_manual}\")\n",
    "    print(f\"Manuel Mean Absolute Error (MAE_MANUAL): {mae_manual}\")\n",
    "\n",
    "    # Metrikleri DataFrame'e ekle\n",
    "    df['MSE'] = mse\n",
    "    df['RMSE'] = rmse\n",
    "    df['MAE'] = mae\n",
    "    df['MSE_MANUAL'] = mse_manual\n",
    "    df['RMSE_MANUAL'] = rmse_manual\n",
    "    df['MAE_MANUAL'] = mae_manual\n",
    "\n",
    "    # Sonuçları görselleştir\n",
    "    plot_results(df[['Deneyim Yılı (x)']], df['Maaş (y)'], df['y_pred'])\n",
    "\n",
    "    # DataFrame'i döndür\n",
    "    return df\n"
   ],
   "metadata": {
    "collapsed": false,
    "ExecuteTime": {
     "end_time": "2024-10-11T16:46:46.437510Z",
     "start_time": "2024-10-11T16:46:46.430169Z"
    }
   },
   "id": "61f01247f29d4a53",
   "execution_count": 21
  },
  {
   "cell_type": "code",
   "outputs": [
    {
     "name": "stdout",
     "output_type": "stream",
     "text": [
      "Y-intercept (b0): 274.3560209424085\n",
      "Slope (b1): 90.2094240837696\n",
      "Mean Squared Error (MSE): 4437.849912739966\n",
      "Root Mean Squared Error (RMSE): 66.61718931882346\n",
      "Mean Absolute Error (MAE): 54.320418848167535\n",
      "Manuel Mean Squared Error (MSE_MANUAL): 4437.849912739966\n",
      "Manuel Root Mean Squared Error (RMSE_MANUAL): 66.61718931882346\n",
      "Manuel Mean Absolute Error (MAE_MANUAL): 54.320418848167535\n"
     ]
    },
    {
     "data": {
      "text/plain": "<Figure size 640x480 with 1 Axes>",
      "image/png": "[encoded data removed]"
     },
     "metadata": {},
     "output_type": "display_data"
    },
    {
     "name": "stdout",
     "output_type": "stream",
     "text": [
      "    Deneyim Yılı (x)  Maaş (y)       y_pred          MSE       RMSE        MAE   MSE_MANUAL  RMSE_MANUAL  MAE_MANUAL\n",
      "0                  5       600   725.403141  4437.849913  66.617189  54.320419  4437.849913    66.617189   54.320419\n",
      "1                  7       900   905.821990  4437.849913  66.617189  54.320419  4437.849913    66.617189   54.320419\n",
      "2                  3       550   544.984293  4437.849913  66.617189  54.320419  4437.849913    66.617189   54.320419\n",
      "3                  3       500   544.984293  4437.849913  66.617189  54.320419  4437.849913    66.617189   54.320419\n",
      "4                  2       400   454.774869  4437.849913  66.617189  54.320419  4437.849913    66.617189   54.320419\n",
      "5                  7       950   905.821990  4437.849913  66.617189  54.320419  4437.849913    66.617189   54.320419\n",
      "6                  3       540   544.984293  4437.849913  66.617189  54.320419  4437.849913    66.617189   54.320419\n",
      "7                 10      1200  1176.450262  4437.849913  66.617189  54.320419  4437.849913    66.617189   54.320419\n",
      "8                  6       900   815.612565  4437.849913  66.617189  54.320419  4437.849913    66.617189   54.320419\n",
      "9                  4       550   635.193717  4437.849913  66.617189  54.320419  4437.849913    66.617189   54.320419\n",
      "10                 8      1100   996.031414  4437.849913  66.617189  54.320419  4437.849913    66.617189   54.320419\n",
      "11                 1       460   364.565445  4437.849913  66.617189  54.320419  4437.849913    66.617189   54.320419\n",
      "12                 1       400   364.565445  4437.849913  66.617189  54.320419  4437.849913    66.617189   54.320419\n",
      "13                 9      1000  1086.240838  4437.849913  66.617189  54.320419  4437.849913    66.617189   54.320419\n",
      "14                 1       380   364.565445  4437.849913  66.617189  54.320419  4437.849913    66.617189   54.320419\n"
     ]
    }
   ],
   "source": [
    "# Ana fonksiyonu çalıştır\n",
    "df_results = main()\n",
    "print(df_results)"
   ],
   "metadata": {
    "collapsed": false,
    "ExecuteTime": {
     "end_time": "2024-10-11T16:46:48.701748Z",
     "start_time": "2024-10-11T16:46:48.629356Z"
    }
   },
   "id": "ff89a5a0acf0f25e",
   "execution_count": 22
  }
 ],
 "metadata": {
  "kernelspec": {
   "display_name": "Python 3",
   "language": "python",
   "name": "python3"
  },
  "language_info": {
   "codemirror_mode": {
    "name": "ipython",
    "version": 2
   },
   "file_extension": ".py",
   "mimetype": "text/x-python",
   "name": "python",
   "nbconvert_exporter": "python",
   "pygments_lexer": "ipython2",
   "version": "2.7.6"
  }
 },
 "nbformat": 4,
 "nbformat_minor": 5
}
